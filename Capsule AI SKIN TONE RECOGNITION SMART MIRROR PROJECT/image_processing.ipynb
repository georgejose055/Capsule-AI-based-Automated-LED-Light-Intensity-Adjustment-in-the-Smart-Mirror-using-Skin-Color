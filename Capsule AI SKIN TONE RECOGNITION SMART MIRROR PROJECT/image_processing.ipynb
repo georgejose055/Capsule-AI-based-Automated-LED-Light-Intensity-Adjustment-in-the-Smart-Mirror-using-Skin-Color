{
 "cells": [
  {
   "cell_type": "code",
   "execution_count": null,
   "id": "96320fd3-c9c0-41bb-ae8d-64c34bec97bc",
   "metadata": {},
   "outputs": [],
   "source": [
    "pip install opencv-python\n"
   ]
  },
  {
   "cell_type": "code",
   "execution_count": null,
   "id": "8c511ad9-a48a-43f6-ac00-d7c3c2b7d144",
   "metadata": {},
   "outputs": [],
   "source": [
    "pip install torch torchvision facenet-pytorch pillow\n"
   ]
  },
  {
   "cell_type": "code",
   "execution_count": null,
   "id": "a7988fc4-8614-4f26-aa8c-809561918b36",
   "metadata": {},
   "outputs": [],
   "source": [
    "import os\n",
    "from pathlib import Path\n",
    "from PIL import Image\n",
    "import torch\n",
    "from facenet_pytorch import MTCNN\n",
    "\n",
    "# Define your working directories and class names\n",
    "root_dir = r\"C:\\Users\\georg\\OneDrive\\Desktop\\Capsule\\Dataset 2\"\n",
    "output_dir = os.path.join(root_dir, \"processed image\")\n",
    "classes = [\"White\", \"Brown\", \"Black\"]\n",
    "\n",
    "# Ensure output folders are created\n",
    "for cls in classes:\n",
    "    Path(os.path.join(output_dir, cls)).mkdir(parents=True, exist_ok=True)\n",
    "\n",
    "# Set up device and face detector\n",
    "device = torch.device('cuda' if torch.cuda.is_available() else 'cpu')\n",
    "print(f\"Using device: {device}\")\n",
    "\n",
    "mtcnn = MTCNN(keep_all=False, image_size=160, margin=20, device=device)\n",
    "\n",
    "def process_folder(class_name):\n",
    "    in_dir = os.path.join(root_dir, class_name)\n",
    "    out_dir = os.path.join(output_dir, class_name)\n",
    "    for fname in os.listdir(in_dir):\n",
    "        if fname.lower().endswith(('.jpg', '.jpeg', '.png')):\n",
    "            img_path = os.path.join(in_dir, fname)\n",
    "            try:\n",
    "                img = Image.open(img_path).convert(\"RGB\")\n",
    "            except Exception as e:\n",
    "                print(f\"Failed to open {img_path}: {e}\")\n",
    "                continue\n",
    "            # Detect and crop the largest face\n",
    "            face_cropped = mtcnn(img)\n",
    "            if face_cropped is None:\n",
    "                print(f\"No face detected in {fname}\")\n",
    "                continue\n",
    "            # Ensure output is uint8 for PIL compatibility\n",
    "            face_img = face_cropped.permute(1, 2, 0).byte().cpu().numpy()\n",
    "            face_save = Image.fromarray(face_img)\n",
    "            out_path = os.path.join(out_dir, fname)\n",
    "            face_save.save(out_path)\n",
    "            print(f\"Processed {fname} -> {out_path}\")\n",
    "\n",
    "# Process each class folder\n",
    "for cls in classes:\n",
    "    process_folder(cls)\n"
   ]
  },
  {
   "cell_type": "code",
   "execution_count": 2,
   "id": "9d5066a1-cce5-4ae6-888a-69affd15fa74",
   "metadata": {},
   "outputs": [],
   "source": [
    "#new code "
   ]
  },
  {
   "cell_type": "code",
   "execution_count": 4,
   "id": "738cdd9f-7e9f-431f-a45b-ff0076dd2fff",
   "metadata": {},
   "outputs": [
    {
     "name": "stdout",
     "output_type": "stream",
     "text": [
      "Requirement already satisfied: torch in c:\\users\\georg\\anaconda3\\lib\\site-packages (2.7.1+cu126)\n",
      "Requirement already satisfied: torchvision in c:\\users\\georg\\anaconda3\\lib\\site-packages (0.22.1+cu126)\n",
      "Requirement already satisfied: opencv-python in c:\\users\\georg\\appdata\\roaming\\python\\python312\\site-packages (4.11.0.86)\n",
      "Requirement already satisfied: mediapipe in c:\\users\\georg\\anaconda3\\lib\\site-packages (0.10.21)\n",
      "Requirement already satisfied: tqdm in c:\\users\\georg\\anaconda3\\lib\\site-packages (4.66.4)\n",
      "Requirement already satisfied: scikit-learn in c:\\users\\georg\\anaconda3\\lib\\site-packages (1.6.1)\n",
      "Requirement already satisfied: pillow in c:\\users\\georg\\appdata\\roaming\\python\\python312\\site-packages (11.3.0)\n",
      "Requirement already satisfied: filelock in c:\\users\\georg\\appdata\\roaming\\python\\python312\\site-packages (from torch) (3.18.0)\n",
      "Requirement already satisfied: typing-extensions>=4.10.0 in c:\\users\\georg\\appdata\\roaming\\python\\python312\\site-packages (from torch) (4.14.1)\n",
      "Requirement already satisfied: sympy>=1.13.3 in c:\\users\\georg\\appdata\\roaming\\python\\python312\\site-packages (from torch) (1.14.0)\n",
      "Requirement already satisfied: networkx in c:\\users\\georg\\appdata\\roaming\\python\\python312\\site-packages (from torch) (3.5)\n",
      "Requirement already satisfied: jinja2 in c:\\users\\georg\\appdata\\roaming\\python\\python312\\site-packages (from torch) (3.1.6)\n",
      "Requirement already satisfied: fsspec in c:\\users\\georg\\appdata\\roaming\\python\\python312\\site-packages (from torch) (2025.5.1)\n",
      "Requirement already satisfied: setuptools in c:\\users\\georg\\appdata\\roaming\\python\\python312\\site-packages (from torch) (80.9.0)\n",
      "Requirement already satisfied: numpy in c:\\users\\georg\\anaconda3\\lib\\site-packages (from torchvision) (1.26.4)\n",
      "Requirement already satisfied: absl-py in c:\\users\\georg\\anaconda3\\lib\\site-packages (from mediapipe) (2.1.0)\n",
      "Requirement already satisfied: attrs>=19.1.0 in c:\\users\\georg\\anaconda3\\lib\\site-packages (from mediapipe) (23.1.0)\n",
      "Requirement already satisfied: flatbuffers>=2.0 in c:\\users\\georg\\anaconda3\\lib\\site-packages (from mediapipe) (25.1.24)\n",
      "Requirement already satisfied: jax in c:\\users\\georg\\anaconda3\\lib\\site-packages (from mediapipe) (0.5.0)\n",
      "Requirement already satisfied: jaxlib in c:\\users\\georg\\anaconda3\\lib\\site-packages (from mediapipe) (0.5.0)\n",
      "Requirement already satisfied: matplotlib in c:\\users\\georg\\anaconda3\\lib\\site-packages (from mediapipe) (3.9.1)\n",
      "Requirement already satisfied: opencv-contrib-python in c:\\users\\georg\\anaconda3\\lib\\site-packages (from mediapipe) (4.11.0.86)\n",
      "Requirement already satisfied: protobuf<5,>=4.25.3 in c:\\users\\georg\\anaconda3\\lib\\site-packages (from mediapipe) (4.25.6)\n",
      "Requirement already satisfied: sounddevice>=0.4.4 in c:\\users\\georg\\anaconda3\\lib\\site-packages (from mediapipe) (0.5.1)\n",
      "Requirement already satisfied: sentencepiece in c:\\users\\georg\\anaconda3\\lib\\site-packages (from mediapipe) (0.2.0)\n",
      "Requirement already satisfied: colorama in c:\\users\\georg\\appdata\\roaming\\python\\python312\\site-packages (from tqdm) (0.4.6)\n",
      "Requirement already satisfied: scipy>=1.6.0 in c:\\users\\georg\\anaconda3\\lib\\site-packages (from scikit-learn) (1.13.1)\n",
      "Requirement already satisfied: joblib>=1.2.0 in c:\\users\\georg\\anaconda3\\lib\\site-packages (from scikit-learn) (1.4.2)\n",
      "Requirement already satisfied: threadpoolctl>=3.1.0 in c:\\users\\georg\\anaconda3\\lib\\site-packages (from scikit-learn) (3.6.0)\n",
      "Requirement already satisfied: CFFI>=1.0 in c:\\users\\georg\\anaconda3\\lib\\site-packages (from sounddevice>=0.4.4->mediapipe) (1.16.0)\n",
      "Requirement already satisfied: mpmath<1.4,>=1.1.0 in c:\\users\\georg\\appdata\\roaming\\python\\python312\\site-packages (from sympy>=1.13.3->torch) (1.3.0)\n",
      "Requirement already satisfied: ml_dtypes>=0.4.0 in c:\\users\\georg\\anaconda3\\lib\\site-packages (from jax->mediapipe) (0.4.1)\n",
      "Requirement already satisfied: opt_einsum in c:\\users\\georg\\anaconda3\\lib\\site-packages (from jax->mediapipe) (3.4.0)\n",
      "Requirement already satisfied: MarkupSafe>=2.0 in c:\\users\\georg\\appdata\\roaming\\python\\python312\\site-packages (from jinja2->torch) (3.0.2)\n",
      "Requirement already satisfied: contourpy>=1.0.1 in c:\\users\\georg\\anaconda3\\lib\\site-packages (from matplotlib->mediapipe) (1.2.0)\n",
      "Requirement already satisfied: cycler>=0.10 in c:\\users\\georg\\anaconda3\\lib\\site-packages (from matplotlib->mediapipe) (0.11.0)\n",
      "Requirement already satisfied: fonttools>=4.22.0 in c:\\users\\georg\\anaconda3\\lib\\site-packages (from matplotlib->mediapipe) (4.51.0)\n",
      "Requirement already satisfied: kiwisolver>=1.3.1 in c:\\users\\georg\\anaconda3\\lib\\site-packages (from matplotlib->mediapipe) (1.4.4)\n",
      "Requirement already satisfied: packaging>=20.0 in c:\\users\\georg\\appdata\\roaming\\python\\python312\\site-packages (from matplotlib->mediapipe) (25.0)\n",
      "Requirement already satisfied: pyparsing>=2.3.1 in c:\\users\\georg\\anaconda3\\lib\\site-packages (from matplotlib->mediapipe) (3.0.9)\n",
      "Requirement already satisfied: python-dateutil>=2.7 in c:\\users\\georg\\appdata\\roaming\\python\\python312\\site-packages (from matplotlib->mediapipe) (2.9.0.post0)\n",
      "Requirement already satisfied: pycparser in c:\\users\\georg\\anaconda3\\lib\\site-packages (from CFFI>=1.0->sounddevice>=0.4.4->mediapipe) (2.21)\n",
      "Requirement already satisfied: six>=1.5 in c:\\users\\georg\\appdata\\roaming\\python\\python312\\site-packages (from python-dateutil>=2.7->matplotlib->mediapipe) (1.17.0)\n",
      "Note: you may need to restart the kernel to use updated packages.\n"
     ]
    }
   ],
   "source": [
    "pip install torch torchvision opencv-python mediapipe tqdm scikit-learn pillow\n"
   ]
  },
  {
   "cell_type": "code",
   "execution_count": 6,
   "id": "14a4cbed-679e-4540-acd0-549c9c86e200",
   "metadata": {},
   "outputs": [
    {
     "name": "stderr",
     "output_type": "stream",
     "text": [
      "100%|████████████████████████████████████████████████████████████████████████████████| 918/918 [09:06<00:00,  1.68it/s]"
     ]
    },
    {
     "name": "stdout",
     "output_type": "stream",
     "text": [
      "Processing complete.\n"
     ]
    },
    {
     "name": "stderr",
     "output_type": "stream",
     "text": [
      "\n"
     ]
    }
   ],
   "source": [
    "import os\n",
    "import cv2\n",
    "import numpy as np\n",
    "import mediapipe as mp\n",
    "from tqdm import tqdm\n",
    "\n",
    "IMG_SIZE = 224  # Input size for DenseNet\n",
    "SRC_PATH = r\"C:\\Users\\georg\\OneDrive\\Desktop\\Capsule\\dataset 3\"\n",
    "SAVE_PATH = r\"C:\\Users\\georg\\OneDrive\\Desktop\\Capsule\\images\"\n",
    "\n",
    "def extract_cheek_forehead(image):\n",
    "    mp_face = mp.solutions.face_mesh\n",
    "    with mp_face.FaceMesh(static_image_mode=True, max_num_faces=1) as face_mesh:\n",
    "        results = face_mesh.process(cv2.cvtColor(image, cv2.COLOR_BGR2RGB))\n",
    "        if not results.multi_face_landmarks:\n",
    "            return None\n",
    "        h, w = image.shape[:2]\n",
    "        landmarks = results.multi_face_landmarks[0].landmark\n",
    "        pts = np.array([[int(l.x * w), int(l.y * h)] for l in landmarks])\n",
    "        forehead = pts[10]\n",
    "        left_cheek = pts[234]\n",
    "        right_cheek = pts[454]\n",
    "        x0 = max(0, min(forehead[0], left_cheek[0], right_cheek[0]) - 40)\n",
    "        y0 = max(0, forehead[1] - 70)\n",
    "        x1 = min(w, max(left_cheek[0], right_cheek[0]) + 40)\n",
    "        y1 = min(h, max(left_cheek[1], right_cheek[1]) + 80)\n",
    "        roi = image[y0:y1, x0:x1]\n",
    "        return cv2.resize(roi, (IMG_SIZE, IMG_SIZE))\n",
    "\n",
    "def process_dataset(src_folder, save_folder):\n",
    "    os.makedirs(save_folder, exist_ok=True)\n",
    "    for fname in tqdm(os.listdir(src_folder)):\n",
    "        if not fname.lower().endswith(('.jpg', '.jpeg', '.png')):\n",
    "            continue\n",
    "        img_path = os.path.join(src_folder, fname)\n",
    "        im = cv2.imread(img_path)\n",
    "        if im is None:\n",
    "            continue\n",
    "        roi = extract_cheek_forehead(im)\n",
    "        if roi is None:\n",
    "            continue\n",
    "        save_path = os.path.join(save_folder, fname)\n",
    "        cv2.imwrite(save_path, roi)\n",
    "    print(\"Processing complete.\")\n",
    "\n",
    "if __name__ == \"__main__\":\n",
    "    process_dataset(SRC_PATH, SAVE_PATH)\n"
   ]
  },
  {
   "cell_type": "code",
   "execution_count": 12,
   "id": "4e7e2ba0-366e-4e79-ae4b-e120e3b2e32c",
   "metadata": {},
   "outputs": [
    {
     "name": "stdout",
     "output_type": "stream",
     "text": [
      "PORCELAIN: (255, 255, 255)\n",
      "IVORY: (225, 225, 225)\n",
      "WARM_IVORY: (212, 212, 212)\n",
      "SAND: (213, 213, 213)\n",
      "ROSE_BEIGE: (209, 209, 209)\n",
      "NATURAL: (253, 247, 241)\n",
      "BEIGE: (246, 228, 211)\n",
      "SIENA: (238, 220, 200)\n",
      "BAND: (242, 230, 198)\n",
      "ALMOND: (226, 205, 183)\n",
      "AMBER: (251, 247, 243)\n",
      "UMBER: (244, 231, 216)\n",
      "BRONZE: (245, 230, 212)\n",
      "ESPRESSO: (234, 219, 208)\n",
      "CHOCOLATE: (221, 210, 198)\n"
     ]
    }
   ],
   "source": [
    "import cv2\n",
    "import numpy as np\n",
    "\n",
    "# Path to your reference image\n",
    "palette_path = r\"C:\\Users\\georg\\Downloads\\skin-tones-palette-by-name-different-types-human-skin-flat-icon-set-vector.jpg\"  # update accordingly\n",
    "\n",
    "# Names and coordinates of patches (adjust x,y,w,h for your palette!)\n",
    "skin_tones = [\n",
    "    (\"PORCELAIN\",    (30,  65, 60, 40)),\n",
    "    (\"IVORY\",        (130, 65, 60, 40)),\n",
    "    (\"WARM_IVORY\",   (235, 65, 60, 40)),\n",
    "    (\"SAND\",         (340, 65, 60, 40)),\n",
    "    (\"ROSE_BEIGE\",   (445, 65, 60, 40)),\n",
    "    (\"NATURAL\",      (30,  125, 60, 40)),\n",
    "    (\"BEIGE\",        (130, 125, 60, 40)),\n",
    "    (\"SIENA\",        (235, 125, 60, 40)),\n",
    "    (\"BAND\",         (340, 125, 60, 40)),\n",
    "    (\"ALMOND\",       (445, 125, 60, 40)),\n",
    "    (\"AMBER\",        (30,  185, 60, 40)),\n",
    "    (\"UMBER\",        (130, 185, 60, 40)),\n",
    "    (\"BRONZE\",       (235, 185, 60, 40)),\n",
    "    (\"ESPRESSO\",     (340, 185, 60, 40)),\n",
    "    (\"CHOCOLATE\",    (445, 185, 60, 40)),\n",
    "]\n",
    "\n",
    "img = cv2.imread(palette_path)\n",
    "skin_tone_rgbs = {}\n",
    "\n",
    "for label, (x, y, w, h) in skin_tones:\n",
    "    patch = img[y:y+h, x:x+w]\n",
    "    avg_color = patch.mean(axis=(0,1))  # BGR format\n",
    "    avg_color_rgb = avg_color[::-1]     # Convert to RGB\n",
    "    skin_tone_rgbs[label] = tuple(map(int, avg_color_rgb))\n",
    "    print(f\"{label}: {skin_tone_rgbs[label]}\")\n",
    "\n",
    "# Optional: save to file (for later use)\n",
    "import json\n",
    "with open('skin_tone_rgb_values.json', 'w') as f:\n",
    "    json.dump(skin_tone_rgbs, f, indent=2)\n"
   ]
  },
  {
   "cell_type": "code",
   "execution_count": 14,
   "id": "9d265577-2a6a-433d-94f6-4530eedb998a",
   "metadata": {},
   "outputs": [
    {
     "name": "stderr",
     "output_type": "stream",
     "text": [
      "100%|████████████████████████████████████████████████████████████████████████████████| 868/868 [00:17<00:00, 48.44it/s]"
     ]
    },
    {
     "name": "stdout",
     "output_type": "stream",
     "text": [
      "Done: classified images saved by skin tone.\n"
     ]
    },
    {
     "name": "stderr",
     "output_type": "stream",
     "text": [
      "\n"
     ]
    }
   ],
   "source": [
    "import os\n",
    "import cv2\n",
    "import numpy as np\n",
    "from tqdm import tqdm\n",
    "import shutil\n",
    "import json\n",
    "\n",
    "INPUT_FOLDER = r\"C:\\Users\\georg\\OneDrive\\Desktop\\Capsule\\images\"\n",
    "OUTPUT_FOLDER = r\"C:\\Users\\georg\\OneDrive\\Desktop\\Capsule\\classified images\"\n",
    "\n",
    "# Load the RGB dictionary just created\n",
    "with open('skin_tone_rgb_values.json', 'r') as f:\n",
    "    SKIN_TONE_COLORS = json.load(f)\n",
    "for k in SKIN_TONE_COLORS:   # dict values could be lists, convert to tuple\n",
    "    SKIN_TONE_COLORS[k] = tuple(SKIN_TONE_COLORS[k])\n",
    "\n",
    "def avg_patch_color(image):\n",
    "    pixels = image.reshape(-1, 3)\n",
    "    avg = np.median(pixels, axis=0)\n",
    "    return avg\n",
    "\n",
    "def closest_skin_tone(color):\n",
    "    min_dist = float('inf')\n",
    "    label = None\n",
    "    for name, ref_rgb in SKIN_TONE_COLORS.items():\n",
    "        dist = np.linalg.norm(color - np.array(ref_rgb))\n",
    "        if dist < min_dist:\n",
    "            min_dist = dist\n",
    "            label = name\n",
    "    return label\n",
    "\n",
    "def classify_and_save_images():\n",
    "    os.makedirs(OUTPUT_FOLDER, exist_ok=True)\n",
    "    files = [f for f in os.listdir(INPUT_FOLDER) if f.lower().endswith(('.jpg', '.jpeg', '.png'))]\n",
    "    for fname in tqdm(files):\n",
    "        fpath = os.path.join(INPUT_FOLDER, fname)\n",
    "        img = cv2.imread(fpath)\n",
    "        if img is None: continue\n",
    "        img_rgb = cv2.cvtColor(img, cv2.COLOR_BGR2RGB)\n",
    "        avg_color = avg_patch_color(img_rgb)\n",
    "        label = closest_skin_tone(avg_color)\n",
    "        target_dir = os.path.join(OUTPUT_FOLDER, label)\n",
    "        os.makedirs(target_dir, exist_ok=True)\n",
    "        shutil.copy(fpath, os.path.join(target_dir, fname))\n",
    "\n",
    "if __name__ == \"__main__\":\n",
    "    classify_and_save_images()\n",
    "    print(\"Done: classified images saved by skin tone.\")\n"
   ]
  },
  {
   "cell_type": "code",
   "execution_count": null,
   "id": "83a473b8-3891-4a5b-bf0b-737aa1214673",
   "metadata": {},
   "outputs": [],
   "source": []
  }
 ],
 "metadata": {
  "kernelspec": {
   "display_name": "Python 3 (ipykernel)",
   "language": "python",
   "name": "python3"
  },
  "language_info": {
   "codemirror_mode": {
    "name": "ipython",
    "version": 3
   },
   "file_extension": ".py",
   "mimetype": "text/x-python",
   "name": "python",
   "nbconvert_exporter": "python",
   "pygments_lexer": "ipython3",
   "version": "3.12.3"
  }
 },
 "nbformat": 4,
 "nbformat_minor": 5
}
